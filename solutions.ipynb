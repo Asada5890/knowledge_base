{
 "cells": [
  {
   "cell_type": "markdown",
   "metadata": {},
   "source": [
    "Решение, в котором гарантированно вводятся корректные значения (`М` или `Ж`)  \n",
    "Метод строки `.strip()` позволяет удалить пробелы в начале и в конце строки  \n",
    "Метод строки `.upper()` позволяет вернуть копию строки, в которой строчные буквы будут заменены на прописные"
   ]
  },
  {
   "cell_type": "code",
   "execution_count": null,
   "metadata": {},
   "outputs": [],
   "source": [
    "Htgender = input(\"Ваш пол (М или Ж): \").strip().upper()\n",
    "age = int(input(\"Ваш возраст: \"))\n",
    "if (gender == \"М\" or gender == \"Ж\") and 18 <= age <= 27:\n",
    "    print(\"Кандидант подходит\")\n",
    "else:\n",
    "    print(\"Кандидант не подходит\")"
   ]
  },
  {
   "cell_type": "markdown",
   "metadata": {},
   "source": [
    "решение в котором запрашивается значение , при "
   ]
  },
  {
   "cell_type": "markdown",
   "metadata": {},
   "source": [
    "Решение в котором запрашивается значение \"М\" или \"Ж\". При вводе не коретного значения просит ввести значение повторно."
   ]
  },
  {
   "cell_type": "markdown",
   "metadata": {},
   "source": []
  }
 ],
 "metadata": {
  "interpreter": {
   "hash": "aee8b7b246df8f9039afb4144a1f6fd8d2ca17a180786b69acc140d282b71a49"
  },
  "kernelspec": {
   "display_name": "Python 3.10.2 64-bit",
   "language": "python",
   "name": "python3"
  },
  "language_info": {
   "codemirror_mode": {
    "name": "ipython",
    "version": 3
   },
   "file_extension": ".py",
   "mimetype": "text/x-python",
   "name": "python",
   "nbconvert_exporter": "python",
   "pygments_lexer": "ipython3",
   "version": "3.10.2"
  },
  "orig_nbformat": 4
 },
 "nbformat": 4,
 "nbformat_minor": 2
}
